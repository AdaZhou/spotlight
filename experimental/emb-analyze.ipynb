{
 "cells": [
  {
   "cell_type": "code",
   "execution_count": 1,
   "metadata": {},
   "outputs": [],
   "source": [
    "%load_ext autotime\n",
    "\n",
    "import os\n",
    "os.environ[\"CUDA_DEVICE_ORDER\"]=\"PCI_BUS_ID\"\n",
    "os.environ[\"CUDA_VISIBLE_DEVICES\"]=\"0\"\n",
    "os.environ[\"SUFFIX\"]= \"1500K-with-3-vids\"\n",
    "os.environ[\"BASE_DIR\"] = \"/home/ec2-user/emb3\"\n",
    "\n",
    "hyperparameters = {\n",
    "    'loss': \"adaptive_hinge\",\n",
    "    'batch_size': 256,\n",
    "    'learning_rate': 1e-3,\n",
    "    'l2': 1e-06,\n",
    "    'n_iter': 30,\n",
    "    'embedding_dim': 64\n",
    "}\n",
    "\n",
    "import pandas as pd\n",
    "import numpy as np\n",
    "from spotlight.cross_validation import random_train_test_split\n",
    "from spotlight.datasets.movielens import get_movielens_dataset\n",
    "from spotlight.evaluation import mrr_score\n",
    "from spotlight.factorization.implicit import ImplicitFactorizationModel\n",
    "from spotlight.interactions import Interactions\n",
    "import pandas as pd\n",
    "from spotlight.evaluation import *\n",
    "from torch.utils.tensorboard import SummaryWriter\n",
    "import torch\n",
    "from torch.utils.tensorboard import SummaryWriter\n",
    "import logging\n",
    "from spotlight.factorization.representations import *\n",
    "import os\n",
    "import collections\n",
    "\n",
    "from spotlight.sequence.implicit import ImplicitSequenceModel\n",
    "from spotlight.sequence.representations import CNNNet"
   ]
  },
  {
   "cell_type": "code",
   "execution_count": 4,
   "metadata": {},
   "outputs": [
    {
     "name": "stdout",
     "output_type": "stream",
     "text": [
      "time: 3.09 s\n"
     ]
    }
   ],
   "source": [
    "model_name = \"cnn_1500K-with-3-vids_loss=adaptive_hinge,batch=128,lr=0.001,l2=1e-06,n_iter=50,emb_dim=128,type=cnn,kernel_width=3,dilation=1,num_layers=2,nonlinearity=tanh,residual=True,mom=0.9,neg=3,amsgrad=True,adamw=False\"\n",
    "base_model_dir=\"/home/ec2-user/emb3/smodels\"\n",
    "epoch=38\n",
    "mm = torch.load(\"{}/{}-{}\".format(base_model_dir,model_name,epoch))"
   ]
  },
  {
   "cell_type": "code",
   "execution_count": 38,
   "metadata": {},
   "outputs": [
    {
     "name": "stdout",
     "output_type": "stream",
     "text": [
      "time: 12.6 ms\n"
     ]
    }
   ],
   "source": [
    "embs = mm.get_embeddings()\n",
    "suffix = os.environ[\"SUFFIX\"]\n",
    "aa = pd.read_parquet(os.environ['BASE_DIR'] + \"/data/video2index-pandas-aug-28-phase\" + suffix)\n",
    "videoid2index = dict(zip(aa[\"k\"], aa[\"v\"]))\n",
    "index2videoid = dict(zip(videoid2index.values(), videoid2index.keys()))"
   ]
  },
  {
   "cell_type": "code",
   "execution_count": 39,
   "metadata": {},
   "outputs": [
    {
     "name": "stdout",
     "output_type": "stream",
     "text": [
      "time: 15.4 ms\n"
     ]
    }
   ],
   "source": [
    "video_embs_list = []\n",
    "for i, em in enumerate(embs.cpu().detach().numpy()):\n",
    "    video_embs_list.append((index2videoid[i], i, em))"
   ]
  },
  {
   "cell_type": "code",
   "execution_count": 45,
   "metadata": {},
   "outputs": [
    {
     "name": "stdout",
     "output_type": "stream",
     "text": [
      "time: 136 ms\n"
     ]
    }
   ],
   "source": [
    "pd.DataFrame(video_embs_list, columns=[\"video_id_int\", \"vindex\", \"vector\"]).to_parquet(\"/home/ec2-user/emb3/data/layer-2-embs-epoch-\" + str(epoch))"
   ]
  },
  {
   "cell_type": "code",
   "execution_count": 41,
   "metadata": {},
   "outputs": [
    {
     "name": "stdout",
     "output_type": "stream",
     "text": [
      "time: 65.6 ms\n"
     ]
    }
   ],
   "source": [
    "als_embds = pd.read_parquet(\"/home/ec2-user/emb3/data/als-embs-pandas-aug-28-phase\" + suffix)"
   ]
  },
  {
   "cell_type": "code",
   "execution_count": 42,
   "metadata": {},
   "outputs": [
    {
     "name": "stdout",
     "output_type": "stream",
     "text": [
      "time: 166 ms\n"
     ]
    }
   ],
   "source": [
    "als_embds[\"video_id_int\"] = als_embds[\"video_id\"]\n",
    "als_embds[[\"video_id_int\", \"vindex\", \"vector\"]].to_parquet(\"/home/ec2-user/emb3/data/als-embeds\")"
   ]
  },
  {
   "cell_type": "code",
   "execution_count": 43,
   "metadata": {},
   "outputs": [
    {
     "name": "stdout",
     "output_type": "stream",
     "text": [
      "time: 7.81 ms\n"
     ]
    }
   ],
   "source": [
    "aa.to_parquet(os.environ['BASE_DIR'] + \"/data/video2index-pandas-aug-28-for-embeds\")"
   ]
  },
  {
   "cell_type": "code",
   "execution_count": null,
   "metadata": {},
   "outputs": [],
   "source": []
  }
 ],
 "metadata": {
  "kernelspec": {
   "display_name": "Environment (conda_pytorch_p36)",
   "language": "python",
   "name": "conda_pytorch_p36"
  },
  "language_info": {
   "codemirror_mode": {
    "name": "ipython",
    "version": 3
   },
   "file_extension": ".py",
   "mimetype": "text/x-python",
   "name": "python",
   "nbconvert_exporter": "python",
   "pygments_lexer": "ipython3",
   "version": "3.7.4"
  }
 },
 "nbformat": 4,
 "nbformat_minor": 2
}
